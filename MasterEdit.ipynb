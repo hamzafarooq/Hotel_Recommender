{
 "cells": [
  {
   "cell_type": "code",
   "execution_count": 3,
   "metadata": {},
   "outputs": [],
   "source": [
    "#!/usr/bin/env python\n",
    "from datetime import datetime\n",
    "from time import time\n",
    "from lxml import html,etree\n",
    "from reviews_final import scrape, write_in_csv\n",
    "import pandas as pd\n",
    "import requests,re\n",
    "import os,sys\n",
    "import unicodecsv as csv\n",
    "import argparse\n",
    "\n",
    "def parse(locality,checkin_date,checkout_date,sort):\n",
    "    checkIn = checkin_date.strftime(\"%Y/%m/%d\")\n",
    "    checkOut = checkout_date.strftime(\"%Y/%m/%d\")\n",
    "    print (\"Scraper Inititated for Locality:%s\"%locality)\n",
    "    # TA rendering the autocomplete list using this API\n",
    "    print (\"Finding search result page URL\")\n",
    "    geo_url = 'https://www.tripadvisor.com/TypeAheadJson?action=API&startTime='+str(int(time()))+'&uiOrigin=GEOSCOPE&source=GEOSCOPE&interleaved=true&types=geo,theme_park&neighborhood_geos=true&link_type=hotel&details=true&max=12&injectNeighborhoods=true&query='+locality\n",
    "    api_response  = requests.get(geo_url, verify=False).json()\n",
    "    #getting the TA url for th equery from the autocomplete response\n",
    "    url_from_autocomplete = \"http://www.tripadvisor.com\"+api_response['results'][0]['url']\n",
    "    print ('URL found %s'%url_from_autocomplete)\n",
    "    geo = api_response['results'][0]['value']\n",
    "    #Formating date for writing to file\n",
    "    a=url_from_autocomplete\n",
    "    b=a.split(\"-\")\n",
    "    s=\"-\"\n",
    "    c=s.join([b[0],b[1],\"oa30\",b[2],b[3]])\n",
    "    d=s.join([b[0],b[1],\"oa60\",b[2],b[3]])\n",
    "    e=s.join([b[0],b[1],\"oa90\",b[2],b[3]])\n",
    "    urllist = [a,c,d,e]\n",
    "\n",
    "    date = checkin_date.strftime(\"%Y_%m_%d\")+\"_\"+checkout_date.strftime(\"%Y_%m_%d\")\n",
    "    #form data to get the hotels list from TA for the selected date\n",
    "    form_data = {'changeSet': 'TRAVEL_INFO',\n",
    "            'showSnippets': 'false',\n",
    "            'staydates':date,\n",
    "            'uguests': '2',\n",
    "            'sortOrder':sort\n",
    "        \n",
    "    }\n",
    "    \n",
    "    \n",
    "    all_hotel=[]\n",
    "    \n",
    "    for url_from_autocomplete in urllist:\n",
    "        print(url_from_autocomplete)\n",
    "\n",
    "        headers = {\n",
    "                                'Accept': 'text/javascript, text/html, application/xml, text/xml, */*',\n",
    "                                'Accept-Encoding': 'gzip,deflate',\n",
    "                                'Accept-Language': 'en-US,en;q=0.5',\n",
    "                                'Cache-Control': 'no-cache',\n",
    "                                'Connection': 'keep-alive',\n",
    "                                'Content-Type': 'application/x-www-form-urlencoded; charset=utf-8',\n",
    "                                'Host': 'www.tripadvisor.com',\n",
    "                                'Pragma': 'no-cache',\n",
    "                                'Referer': url_from_autocomplete,\n",
    "                                'User-Agent': 'Mozilla/5.0 (X11; Ubuntu; Linux i686; rv:28.0) Gecko/20100101 Firefox/28.0',\n",
    "                                'X-Requested-With': 'XMLHttpRequest'\n",
    "                            }\n",
    "        cookies=  {\"SetCurrency\":\"USD\"}\n",
    "        print (\"Downloading search results page\")\n",
    "        page_response  = requests.post(url = url_from_autocomplete,data=form_data,headers = headers, cookies = cookies, verify=False)\n",
    "        print (\"Parsing results \")\n",
    "        parser = html.fromstring(page_response.text)\n",
    "        hotel_lists = parser.xpath('//div[contains(@class,\"listItem\")]//div[contains(@class,\"listing collapsed\")]')\n",
    "        hotel_data = []\n",
    "        if not hotel_lists:\n",
    "            hotel_lists = parser.xpath('//div[contains(@class,\"listItem\")]//div[@class=\"listing \"]')\n",
    "\n",
    "        for hotel in hotel_lists:\n",
    "            XPATH_HOTEL_LINK = './/a[contains(@class,\"property_title\")]/@href'\n",
    "            XPATH_REVIEWS  = './/a[@class=\"review_count\"]//text()'\n",
    "            XPATH_RANK = './/div[@class=\"popindex\"]//text()'\n",
    "            XPATH_RATING = './/span[contains(@class,\"ui_bubble_rating bubble_45\")]/@alt' #update this code to get rating\n",
    "            XPATH_RATING_2 = './/a[contains(@class,\"ui_bubble_rating bubble_45\")]/@alt' #update this code to get rating\n",
    "            XPATH_HOTEL_NAME = './/a[contains(@class,\"property_title\")]//text()'\n",
    "            XPATH_HOTEL_FEATURES = './/div[contains(@casls,\"common_hotel_icons_list\")]//li//text()'\n",
    "            XPATH_HOTEL_PRICE = './/div[contains(@data-sizegroup,\"mini-meta-price\")]/text()'\n",
    "            XPATH_VIEW_DEALS = './/div[contains(@data-ajax-preserve,\"viewDeals\")]//text()'\n",
    "            XPATH_BOOKING_PROVIDER = './/div[contains(@data-sizegroup,\"mini-meta-provider\")]//text()'\n",
    "\n",
    "            raw_booking_provider = hotel.xpath(XPATH_BOOKING_PROVIDER)\n",
    "            raw_no_of_deals =  hotel.xpath(XPATH_VIEW_DEALS)\n",
    "            raw_hotel_link = hotel.xpath(XPATH_HOTEL_LINK)\n",
    "            raw_no_of_reviews = hotel.xpath(XPATH_REVIEWS)\n",
    "            raw_rank = hotel.xpath(XPATH_RANK)\n",
    "            raw_rating = hotel.xpath(XPATH_RATING_2)\n",
    "            raw_hotel_name = hotel.xpath(XPATH_HOTEL_NAME)\n",
    "            raw_hotel_features = hotel.xpath(XPATH_HOTEL_FEATURES)\n",
    "            raw_hotel_price_per_night  = hotel.xpath(XPATH_HOTEL_PRICE)\n",
    "\n",
    "            url = 'http://www.tripadvisor.com'+raw_hotel_link[0] if raw_hotel_link else  None\n",
    "            reviews = ''.join(raw_no_of_reviews).replace(\"reviews\",\"\").replace(\",\",\"\") if raw_no_of_reviews else 0\n",
    "            rank = ''.join(raw_rank) if raw_rank else None\n",
    "            rating = ''.join(raw_rating).replace('of 5 bubbles','').strip() if raw_rating else None\n",
    "            name = ''.join(raw_hotel_name).strip() if raw_hotel_name else None\n",
    "            hotel_features = ','.join(raw_hotel_features)\n",
    "            #price_per_night = ''.join(raw_hotel_price_per_night).encode('utf-8').replace('\\n','') if raw_hotel_price_per_night else None\n",
    "            price_per_night = ''.join(raw_hotel_price_per_night).replace('\\n','') if raw_hotel_price_per_night else None\n",
    "\n",
    "            no_of_deals = re.findall(\"all\\s+?(\\d+)\\s+?\",''.join(raw_no_of_deals))\n",
    "            booking_provider = ''.join(raw_booking_provider).strip() if raw_booking_provider else None\n",
    "\n",
    "            if no_of_deals:\n",
    "                no_of_deals = no_of_deals[0]\n",
    "            else:\n",
    "                no_of_deals = 0\n",
    "\n",
    "            data = {\n",
    "                        'hotel_name':name,\n",
    "                        'url':url,\n",
    "                        'locality':locality,\n",
    "                        'reviews':reviews,\n",
    "                        'rank':rank,\n",
    "                        'tripadvisor_rating':rating,\n",
    "                        'checkOut':checkOut,\n",
    "                        'checkIn':checkIn,\n",
    "                        'hotel_features':hotel_features,\n",
    "                        'price_per_night':price_per_night,\n",
    "                        'no_of_deals':no_of_deals,\n",
    "                        'booking_provider':booking_provider\n",
    "\n",
    "            }\n",
    "            hotel_data.append(data)\n",
    "            all_hotel.append(data)\n",
    "    #Referrer is necessary to get the correct response from TA if not provided they will redirect to home page\n",
    "    my_df=pd.DataFrame(all_hotel)\n",
    "    print(my_df['hotel_name'])\n",
    "    return all_hotel\n",
    "   \n"
   ]
  },
  {
   "cell_type": "code",
   "execution_count": 4,
   "metadata": {},
   "outputs": [],
   "source": [
    "test=\"2020/11/01,2020/11/05,popularity,Milan\""
   ]
  },
  {
   "cell_type": "code",
   "execution_count": 7,
   "metadata": {},
   "outputs": [
    {
     "name": "stdout",
     "output_type": "stream",
     "text": [
      "2020/11/01,2020/11/05,popularity,Milan\n",
      "Namespace(checkin_date='2020/11/01', checkout_date='2020/11/05', locality='Milan', sort='popularity')\n"
     ]
    }
   ],
   "source": [
    "parser = argparse.ArgumentParser()\n",
    "parser.add_argument('checkin_date',help = 'Hotel Check In Date (Format: YYYY/MM/DD')\n",
    "sortorder_help = \"\"\"\n",
    "    available sort orders are :\\n\n",
    "    priceLow - hotels with lowest price,\n",
    "    distLow : Hotels located near to the search center,\n",
    "    recommended: highest rated hotels based on traveler reviews,\n",
    "    popularity :Most popular hotels as chosen by Tipadvisor users\n",
    "    \"\"\"\n",
    "parser.add_argument('checkout_date',help = 'Hotel Chek Out Date (Format: YYYY/MM/DD)')\n",
    "parser.add_argument('sort',help = sortorder_help,default ='popularity ')\n",
    "parser.add_argument('locality',help = 'Search Locality')\n",
    "print(test)\n",
    "args = parser.parse_args(test.split(','))\n",
    "print (args)\n",
    "locality = args.locality\n",
    "checkin_date = datetime.strptime(args.checkin_date,\"%Y/%m/%d\")\n",
    "checkout_date = datetime.strptime(args.checkout_date,\"%Y/%m/%d\")\n",
    "sort= args.sort\n",
    "checkIn = checkin_date.strftime(\"%Y/%m/%d\")\n",
    "checkOut = checkout_date.strftime(\"%Y/%m/%d\")\n",
    "today = datetime.now()"
   ]
  },
  {
   "cell_type": "code",
   "execution_count": 13,
   "metadata": {},
   "outputs": [
    {
     "name": "stdout",
     "output_type": "stream",
     "text": [
      "Scraper Inititated for Locality:Milan\n",
      "Finding search result page URL\n"
     ]
    },
    {
     "name": "stderr",
     "output_type": "stream",
     "text": [
      "/Users/hfarooq/anaconda3/lib/python3.7/site-packages/urllib3/connectionpool.py:847: InsecureRequestWarning: Unverified HTTPS request is being made. Adding certificate verification is strongly advised. See: https://urllib3.readthedocs.io/en/latest/advanced-usage.html#ssl-warnings\n",
      "  InsecureRequestWarning)\n"
     ]
    },
    {
     "name": "stdout",
     "output_type": "stream",
     "text": [
      "URL found http://www.tripadvisor.com/Hotels-g187849-Milan_Lombardy-Hotels.html\n",
      "http://www.tripadvisor.com/Hotels-g187849-Milan_Lombardy-Hotels.html\n",
      "Downloading search results page\n"
     ]
    },
    {
     "name": "stderr",
     "output_type": "stream",
     "text": [
      "/Users/hfarooq/anaconda3/lib/python3.7/site-packages/urllib3/connectionpool.py:847: InsecureRequestWarning: Unverified HTTPS request is being made. Adding certificate verification is strongly advised. See: https://urllib3.readthedocs.io/en/latest/advanced-usage.html#ssl-warnings\n",
      "  InsecureRequestWarning)\n"
     ]
    },
    {
     "name": "stdout",
     "output_type": "stream",
     "text": [
      "Parsing results \n",
      "http://www.tripadvisor.com/Hotels-g187849-oa30-Milan_Lombardy-Hotels.html\n",
      "Downloading search results page\n"
     ]
    },
    {
     "name": "stderr",
     "output_type": "stream",
     "text": [
      "/Users/hfarooq/anaconda3/lib/python3.7/site-packages/urllib3/connectionpool.py:847: InsecureRequestWarning: Unverified HTTPS request is being made. Adding certificate verification is strongly advised. See: https://urllib3.readthedocs.io/en/latest/advanced-usage.html#ssl-warnings\n",
      "  InsecureRequestWarning)\n"
     ]
    },
    {
     "name": "stdout",
     "output_type": "stream",
     "text": [
      "Parsing results \n",
      "http://www.tripadvisor.com/Hotels-g187849-oa60-Milan_Lombardy-Hotels.html\n",
      "Downloading search results page\n"
     ]
    },
    {
     "name": "stderr",
     "output_type": "stream",
     "text": [
      "/Users/hfarooq/anaconda3/lib/python3.7/site-packages/urllib3/connectionpool.py:847: InsecureRequestWarning: Unverified HTTPS request is being made. Adding certificate verification is strongly advised. See: https://urllib3.readthedocs.io/en/latest/advanced-usage.html#ssl-warnings\n",
      "  InsecureRequestWarning)\n"
     ]
    },
    {
     "name": "stdout",
     "output_type": "stream",
     "text": [
      "Parsing results \n",
      "http://www.tripadvisor.com/Hotels-g187849-oa90-Milan_Lombardy-Hotels.html\n",
      "Downloading search results page\n"
     ]
    },
    {
     "name": "stderr",
     "output_type": "stream",
     "text": [
      "/Users/hfarooq/anaconda3/lib/python3.7/site-packages/urllib3/connectionpool.py:847: InsecureRequestWarning: Unverified HTTPS request is being made. Adding certificate verification is strongly advised. See: https://urllib3.readthedocs.io/en/latest/advanced-usage.html#ssl-warnings\n",
      "  InsecureRequestWarning)\n"
     ]
    },
    {
     "name": "stdout",
     "output_type": "stream",
     "text": [
      "Parsing results \n",
      "0                    NYX Hotel Milan\n",
      "1      Hilton Garden Inn Milan North\n",
      "2                        Hotel Berna\n",
      "3                 ibis Milano Centro\n",
      "4            The Square Milano Duomo\n",
      "                   ...              \n",
      "115                     Hotel Rafael\n",
      "116             B&B Too Cute 2b Str8\n",
      "117     Hotel Palazzo Delle Stelline\n",
      "118        B&B Central Hostel Milano\n",
      "119              Starhotels Anderson\n",
      "Name: hotel_name, Length: 120, dtype: object\n"
     ]
    }
   ],
   "source": [
    "data = parse(locality,checkin_date,checkout_date,sort)"
   ]
  },
  {
   "cell_type": "code",
   "execution_count": 14,
   "metadata": {},
   "outputs": [
    {
     "data": {
      "text/plain": [
       "120"
      ]
     },
     "execution_count": 14,
     "metadata": {},
     "output_type": "execute_result"
    }
   ],
   "source": [
    "len(data)"
   ]
  },
  {
   "cell_type": "code",
   "execution_count": 15,
   "metadata": {},
   "outputs": [],
   "source": [
    "my_df = pd.DataFrame(data)"
   ]
  },
  {
   "cell_type": "code",
   "execution_count": 16,
   "metadata": {},
   "outputs": [
    {
     "data": {
      "text/html": [
       "<div>\n",
       "<style scoped>\n",
       "    .dataframe tbody tr th:only-of-type {\n",
       "        vertical-align: middle;\n",
       "    }\n",
       "\n",
       "    .dataframe tbody tr th {\n",
       "        vertical-align: top;\n",
       "    }\n",
       "\n",
       "    .dataframe thead th {\n",
       "        text-align: right;\n",
       "    }\n",
       "</style>\n",
       "<table border=\"1\" class=\"dataframe\">\n",
       "  <thead>\n",
       "    <tr style=\"text-align: right;\">\n",
       "      <th></th>\n",
       "      <th>hotel_name</th>\n",
       "      <th>url</th>\n",
       "      <th>locality</th>\n",
       "      <th>reviews</th>\n",
       "      <th>rank</th>\n",
       "      <th>tripadvisor_rating</th>\n",
       "      <th>checkOut</th>\n",
       "      <th>checkIn</th>\n",
       "      <th>hotel_features</th>\n",
       "      <th>price_per_night</th>\n",
       "      <th>no_of_deals</th>\n",
       "      <th>booking_provider</th>\n",
       "    </tr>\n",
       "  </thead>\n",
       "  <tbody>\n",
       "    <tr>\n",
       "      <th>0</th>\n",
       "      <td>NYX Hotel Milan</td>\n",
       "      <td>http://www.tripadvisor.com/Hotel_Review-g18784...</td>\n",
       "      <td>Milan</td>\n",
       "      <td>854</td>\n",
       "      <td>#1 Best Value of 1,292 places to stay in Milan</td>\n",
       "      <td>4.5</td>\n",
       "      <td>2020/11/05</td>\n",
       "      <td>2020/11/01</td>\n",
       "      <td></td>\n",
       "      <td>$126</td>\n",
       "      <td>19</td>\n",
       "      <td>Leonardo</td>\n",
       "    </tr>\n",
       "    <tr>\n",
       "      <th>1</th>\n",
       "      <td>Hilton Garden Inn Milan North</td>\n",
       "      <td>http://www.tripadvisor.com/Hotel_Review-g18784...</td>\n",
       "      <td>Milan</td>\n",
       "      <td>1362</td>\n",
       "      <td>#2 Best Value of 1,292 places to stay in Milan</td>\n",
       "      <td>None</td>\n",
       "      <td>2020/11/05</td>\n",
       "      <td>2020/11/01</td>\n",
       "      <td></td>\n",
       "      <td>$119</td>\n",
       "      <td>13</td>\n",
       "      <td>Booking.com</td>\n",
       "    </tr>\n",
       "    <tr>\n",
       "      <th>2</th>\n",
       "      <td>Hotel Berna</td>\n",
       "      <td>http://www.tripadvisor.com/Hotel_Review-g18784...</td>\n",
       "      <td>Milan</td>\n",
       "      <td>7709</td>\n",
       "      <td>#3 Best Value of 1,292 places to stay in Milan</td>\n",
       "      <td>4.5</td>\n",
       "      <td>2020/11/05</td>\n",
       "      <td>2020/11/01</td>\n",
       "      <td></td>\n",
       "      <td>$200</td>\n",
       "      <td>13</td>\n",
       "      <td>eDreams</td>\n",
       "    </tr>\n",
       "    <tr>\n",
       "      <th>3</th>\n",
       "      <td>ibis Milano Centro</td>\n",
       "      <td>http://www.tripadvisor.com/Hotel_Review-g18784...</td>\n",
       "      <td>Milan</td>\n",
       "      <td>7709</td>\n",
       "      <td>#4 Best Value of 1,292 places to stay in Milan</td>\n",
       "      <td>None</td>\n",
       "      <td>2020/11/05</td>\n",
       "      <td>2020/11/01</td>\n",
       "      <td></td>\n",
       "      <td>$79</td>\n",
       "      <td>13</td>\n",
       "      <td>ibis</td>\n",
       "    </tr>\n",
       "    <tr>\n",
       "      <th>4</th>\n",
       "      <td>The Square Milano Duomo</td>\n",
       "      <td>http://www.tripadvisor.com/Hotel_Review-g18784...</td>\n",
       "      <td>Milan</td>\n",
       "      <td>1102</td>\n",
       "      <td>#5 Best Value of 1,292 places to stay in Milan</td>\n",
       "      <td>4.5</td>\n",
       "      <td>2020/11/05</td>\n",
       "      <td>2020/11/01</td>\n",
       "      <td></td>\n",
       "      <td>$237</td>\n",
       "      <td>20</td>\n",
       "      <td>Booking.com</td>\n",
       "    </tr>\n",
       "    <tr>\n",
       "      <th>5</th>\n",
       "      <td>Enterprise Hotel</td>\n",
       "      <td>http://www.tripadvisor.com/Hotel_Review-g18784...</td>\n",
       "      <td>Milan</td>\n",
       "      <td>2037</td>\n",
       "      <td>#6 Best Value of 1,292 places to stay in Milan</td>\n",
       "      <td>4.5</td>\n",
       "      <td>2020/11/05</td>\n",
       "      <td>2020/11/01</td>\n",
       "      <td></td>\n",
       "      <td>$107</td>\n",
       "      <td>11</td>\n",
       "      <td>Booking.com</td>\n",
       "    </tr>\n",
       "    <tr>\n",
       "      <th>6</th>\n",
       "      <td>Klima Hotel Milano Fiere</td>\n",
       "      <td>http://www.tripadvisor.com/Hotel_Review-g18784...</td>\n",
       "      <td>Milan</td>\n",
       "      <td>1667</td>\n",
       "      <td>#7 Best Value of 1,292 places to stay in Milan</td>\n",
       "      <td>None</td>\n",
       "      <td>2020/11/05</td>\n",
       "      <td>2020/11/01</td>\n",
       "      <td></td>\n",
       "      <td>$99</td>\n",
       "      <td>12</td>\n",
       "      <td>Agoda.com</td>\n",
       "    </tr>\n",
       "    <tr>\n",
       "      <th>7</th>\n",
       "      <td>Chateau Monfort</td>\n",
       "      <td>http://www.tripadvisor.com/Hotel_Review-g18784...</td>\n",
       "      <td>Milan</td>\n",
       "      <td>2053</td>\n",
       "      <td>#8 Best Value of 1,292 places to stay in Milan</td>\n",
       "      <td>4.5</td>\n",
       "      <td>2020/11/05</td>\n",
       "      <td>2020/11/01</td>\n",
       "      <td></td>\n",
       "      <td>$208</td>\n",
       "      <td>14</td>\n",
       "      <td>Booking.com</td>\n",
       "    </tr>\n",
       "    <tr>\n",
       "      <th>8</th>\n",
       "      <td>Hyatt Centric Milan Centrale</td>\n",
       "      <td>http://www.tripadvisor.com/Hotel_Review-g18784...</td>\n",
       "      <td>Milan</td>\n",
       "      <td>1583</td>\n",
       "      <td>#9 Best Value of 1,292 places to stay in Milan</td>\n",
       "      <td>None</td>\n",
       "      <td>2020/11/05</td>\n",
       "      <td>2020/11/01</td>\n",
       "      <td></td>\n",
       "      <td>$186</td>\n",
       "      <td>18</td>\n",
       "      <td>eDreams</td>\n",
       "    </tr>\n",
       "    <tr>\n",
       "      <th>9</th>\n",
       "      <td>Michelangelo Hotel</td>\n",
       "      <td>http://www.tripadvisor.com/Hotel_Review-g18784...</td>\n",
       "      <td>Milan</td>\n",
       "      <td>2042</td>\n",
       "      <td>#10 Best Value of 1,292 places to stay in Milan</td>\n",
       "      <td>None</td>\n",
       "      <td>2020/11/05</td>\n",
       "      <td>2020/11/01</td>\n",
       "      <td></td>\n",
       "      <td>$148</td>\n",
       "      <td>13</td>\n",
       "      <td>eDreams</td>\n",
       "    </tr>\n",
       "    <tr>\n",
       "      <th>10</th>\n",
       "      <td>NH Collection Milano President</td>\n",
       "      <td>http://www.tripadvisor.com/Hotel_Review-g18784...</td>\n",
       "      <td>Milan</td>\n",
       "      <td>3144</td>\n",
       "      <td>#11 Best Value of 1,292 places to stay in Milan</td>\n",
       "      <td>4.5</td>\n",
       "      <td>2020/11/05</td>\n",
       "      <td>2020/11/01</td>\n",
       "      <td></td>\n",
       "      <td>$253</td>\n",
       "      <td>12</td>\n",
       "      <td>Booking.com</td>\n",
       "    </tr>\n",
       "    <tr>\n",
       "      <th>11</th>\n",
       "      <td>Moscova Luxury B&amp;B</td>\n",
       "      <td>http://www.tripadvisor.com/Hotel_Review-g18784...</td>\n",
       "      <td>Milan</td>\n",
       "      <td>92</td>\n",
       "      <td>#12 Best Value of 1,292 places to stay in Milan</td>\n",
       "      <td>None</td>\n",
       "      <td>2020/11/05</td>\n",
       "      <td>2020/11/01</td>\n",
       "      <td></td>\n",
       "      <td>$146</td>\n",
       "      <td>0</td>\n",
       "      <td>Booking.com</td>\n",
       "    </tr>\n",
       "    <tr>\n",
       "      <th>12</th>\n",
       "      <td>Radisson Blu Hotel, Milan</td>\n",
       "      <td>http://www.tripadvisor.com/Hotel_Review-g18784...</td>\n",
       "      <td>Milan</td>\n",
       "      <td>2449</td>\n",
       "      <td>#13 Best Value of 1,292 places to stay in Milan</td>\n",
       "      <td>None</td>\n",
       "      <td>2020/11/05</td>\n",
       "      <td>2020/11/01</td>\n",
       "      <td></td>\n",
       "      <td>$339</td>\n",
       "      <td>10</td>\n",
       "      <td>Expedia.com</td>\n",
       "    </tr>\n",
       "    <tr>\n",
       "      <th>13</th>\n",
       "      <td>Hotel Sanpi Milano</td>\n",
       "      <td>http://www.tripadvisor.com/Hotel_Review-g18784...</td>\n",
       "      <td>Milan</td>\n",
       "      <td>1501</td>\n",
       "      <td>#14 Best Value of 1,292 places to stay in Milan</td>\n",
       "      <td>4.5</td>\n",
       "      <td>2020/11/05</td>\n",
       "      <td>2020/11/01</td>\n",
       "      <td></td>\n",
       "      <td>$129</td>\n",
       "      <td>14</td>\n",
       "      <td>Booking.com</td>\n",
       "    </tr>\n",
       "    <tr>\n",
       "      <th>14</th>\n",
       "      <td>Excelsior Hotel Gallia, a Luxury Collection Ho...</td>\n",
       "      <td>http://www.tripadvisor.com/Hotel_Review-g18784...</td>\n",
       "      <td>Milan</td>\n",
       "      <td>1465</td>\n",
       "      <td>#15 Best Value of 1,292 places to stay in Milan</td>\n",
       "      <td>4.5</td>\n",
       "      <td>2020/11/05</td>\n",
       "      <td>2020/11/01</td>\n",
       "      <td></td>\n",
       "      <td>$341</td>\n",
       "      <td>18</td>\n",
       "      <td>LuxuryCollection</td>\n",
       "    </tr>\n",
       "  </tbody>\n",
       "</table>\n",
       "</div>"
      ],
      "text/plain": [
       "                                           hotel_name  \\\n",
       "0                                     NYX Hotel Milan   \n",
       "1                       Hilton Garden Inn Milan North   \n",
       "2                                         Hotel Berna   \n",
       "3                                  ibis Milano Centro   \n",
       "4                             The Square Milano Duomo   \n",
       "5                                    Enterprise Hotel   \n",
       "6                            Klima Hotel Milano Fiere   \n",
       "7                                     Chateau Monfort   \n",
       "8                        Hyatt Centric Milan Centrale   \n",
       "9                                  Michelangelo Hotel   \n",
       "10                     NH Collection Milano President   \n",
       "11                                 Moscova Luxury B&B   \n",
       "12                          Radisson Blu Hotel, Milan   \n",
       "13                                 Hotel Sanpi Milano   \n",
       "14  Excelsior Hotel Gallia, a Luxury Collection Ho...   \n",
       "\n",
       "                                                  url locality reviews  \\\n",
       "0   http://www.tripadvisor.com/Hotel_Review-g18784...    Milan    854    \n",
       "1   http://www.tripadvisor.com/Hotel_Review-g18784...    Milan   1362    \n",
       "2   http://www.tripadvisor.com/Hotel_Review-g18784...    Milan   7709    \n",
       "3   http://www.tripadvisor.com/Hotel_Review-g18784...    Milan   7709    \n",
       "4   http://www.tripadvisor.com/Hotel_Review-g18784...    Milan   1102    \n",
       "5   http://www.tripadvisor.com/Hotel_Review-g18784...    Milan   2037    \n",
       "6   http://www.tripadvisor.com/Hotel_Review-g18784...    Milan   1667    \n",
       "7   http://www.tripadvisor.com/Hotel_Review-g18784...    Milan   2053    \n",
       "8   http://www.tripadvisor.com/Hotel_Review-g18784...    Milan   1583    \n",
       "9   http://www.tripadvisor.com/Hotel_Review-g18784...    Milan   2042    \n",
       "10  http://www.tripadvisor.com/Hotel_Review-g18784...    Milan   3144    \n",
       "11  http://www.tripadvisor.com/Hotel_Review-g18784...    Milan     92    \n",
       "12  http://www.tripadvisor.com/Hotel_Review-g18784...    Milan   2449    \n",
       "13  http://www.tripadvisor.com/Hotel_Review-g18784...    Milan   1501    \n",
       "14  http://www.tripadvisor.com/Hotel_Review-g18784...    Milan   1465    \n",
       "\n",
       "                                               rank tripadvisor_rating  \\\n",
       "0    #1 Best Value of 1,292 places to stay in Milan                4.5   \n",
       "1    #2 Best Value of 1,292 places to stay in Milan               None   \n",
       "2    #3 Best Value of 1,292 places to stay in Milan                4.5   \n",
       "3    #4 Best Value of 1,292 places to stay in Milan               None   \n",
       "4    #5 Best Value of 1,292 places to stay in Milan                4.5   \n",
       "5    #6 Best Value of 1,292 places to stay in Milan                4.5   \n",
       "6    #7 Best Value of 1,292 places to stay in Milan               None   \n",
       "7    #8 Best Value of 1,292 places to stay in Milan                4.5   \n",
       "8    #9 Best Value of 1,292 places to stay in Milan               None   \n",
       "9   #10 Best Value of 1,292 places to stay in Milan               None   \n",
       "10  #11 Best Value of 1,292 places to stay in Milan                4.5   \n",
       "11  #12 Best Value of 1,292 places to stay in Milan               None   \n",
       "12  #13 Best Value of 1,292 places to stay in Milan               None   \n",
       "13  #14 Best Value of 1,292 places to stay in Milan                4.5   \n",
       "14  #15 Best Value of 1,292 places to stay in Milan                4.5   \n",
       "\n",
       "      checkOut     checkIn hotel_features price_per_night no_of_deals  \\\n",
       "0   2020/11/05  2020/11/01                           $126          19   \n",
       "1   2020/11/05  2020/11/01                           $119          13   \n",
       "2   2020/11/05  2020/11/01                           $200          13   \n",
       "3   2020/11/05  2020/11/01                            $79          13   \n",
       "4   2020/11/05  2020/11/01                           $237          20   \n",
       "5   2020/11/05  2020/11/01                           $107          11   \n",
       "6   2020/11/05  2020/11/01                            $99          12   \n",
       "7   2020/11/05  2020/11/01                           $208          14   \n",
       "8   2020/11/05  2020/11/01                           $186          18   \n",
       "9   2020/11/05  2020/11/01                           $148          13   \n",
       "10  2020/11/05  2020/11/01                           $253          12   \n",
       "11  2020/11/05  2020/11/01                           $146           0   \n",
       "12  2020/11/05  2020/11/01                           $339          10   \n",
       "13  2020/11/05  2020/11/01                           $129          14   \n",
       "14  2020/11/05  2020/11/01                           $341          18   \n",
       "\n",
       "    booking_provider  \n",
       "0           Leonardo  \n",
       "1        Booking.com  \n",
       "2            eDreams  \n",
       "3               ibis  \n",
       "4        Booking.com  \n",
       "5        Booking.com  \n",
       "6          Agoda.com  \n",
       "7        Booking.com  \n",
       "8            eDreams  \n",
       "9            eDreams  \n",
       "10       Booking.com  \n",
       "11       Booking.com  \n",
       "12       Expedia.com  \n",
       "13       Booking.com  \n",
       "14  LuxuryCollection  "
      ]
     },
     "execution_count": 16,
     "metadata": {},
     "output_type": "execute_result"
    }
   ],
   "source": [
    "my_df.head(15)"
   ]
  },
  {
   "cell_type": "code",
   "execution_count": null,
   "metadata": {},
   "outputs": [],
   "source": [
    "print(my_df['hotel_name'])"
   ]
  },
  {
   "cell_type": "code",
   "execution_count": null,
   "metadata": {},
   "outputs": [],
   "source": [
    "for i in data:\n",
    "    for y in i:\n",
    "        print (y,':',i[y])"
   ]
  },
  {
   "cell_type": "code",
   "execution_count": null,
   "metadata": {},
   "outputs": [],
   "source": []
  },
  {
   "cell_type": "code",
   "execution_count": null,
   "metadata": {},
   "outputs": [],
   "source": []
  },
  {
   "cell_type": "code",
   "execution_count": null,
   "metadata": {},
   "outputs": [],
   "source": []
  },
  {
   "cell_type": "code",
   "execution_count": null,
   "metadata": {},
   "outputs": [],
   "source": []
  },
  {
   "cell_type": "code",
   "execution_count": null,
   "metadata": {},
   "outputs": [],
   "source": [
    "%run trip_advisor_final.py \"2019/10/01\" \"2019/10/05\" \"popularity\" \"Paris\"\n",
    "%run trip_advisor_final.py \"2019/10/01\" \"2019/10/05\" \"popularity\" \"Chicago\"\n",
    "%run trip_advisor_final.py \"2019/10/01\" \"2019/10/05\" \"popularity\" \"New York\"\n",
    "%run trip_advisor_final.py \"2019/10/01\" \"2019/10/05\" \"popularity\" \"San Francisco\"\n",
    "%run trip_advisor_final.py \"2019/10/01\" \"2019/10/05\" \"popularity\" \"Istanbul\"\n",
    "%run trip_advisor_final.py \"2019/10/01\" \"2019/10/05\" \"popularity\" \"Singapore\"\n",
    "%run trip_advisor_final.py \"2019/10/01\" \"2019/10/05\" \"popularity\" \"Bombay\"\n",
    "%run trip_advisor_final.py \"2019/10/01\" \"2019/10/05\" \"popularity\" \"Bangkok\"\n",
    "%run trip_advisor_final.py \"2019/10/01\" \"2019/10/05\" \"popularity\" \"Sydney\"\n",
    "%run trip_advisor_final.py \"2019/10/01\" \"2019/10/05\" \"popularity\" \"London\""
   ]
  },
  {
   "cell_type": "code",
   "execution_count": null,
   "metadata": {},
   "outputs": [],
   "source": [
    "%run trip_advisor_final.py \"2019/10/01\" \"2019/10/05\" \"popularity\" \"Rome\"\n",
    "%run trip_advisor_final.py \"2019/10/01\" \"2019/10/05\" \"popularity\" \"Athens\"\n",
    "%run trip_advisor_final.py \"2019/10/01\" \"2019/10/05\" \"popularity\" \"Miami\"\n",
    "%run trip_advisor_final.py \"2019/10/01\" \"2019/10/05\" \"popularity\" \"Austin\"\n",
    "%run trip_advisor_final.py \"2019/10/01\" \"2019/10/05\" \"popularity\" \"Tokyo\"\n",
    "%run trip_advisor_final.py \"2019/10/01\" \"2019/10/05\" \"popularity\" \"Bali\""
   ]
  },
  {
   "cell_type": "code",
   "execution_count": null,
   "metadata": {},
   "outputs": [],
   "source": [
    "%run trip_advisor_final.py \"2019/10/01\" \"2019/10/05\" \"popularity\" \"Osaka\"\n",
    "%run trip_advisor_final.py \"2019/10/01\" \"2019/10/05\" \"popularity\" \"Hong Kong\"\n",
    "%run trip_advisor_final.py \"2019/10/01\" \"2019/10/05\" \"popularity\" \"Dubai\"\n",
    "%run trip_advisor_final.py \"2019/10/01\" \"2019/10/05\" \"popularity\" \"Phuket\"\n",
    "%run trip_advisor_final.py \"2019/10/01\" \"2019/10/05\" \"popularity\" \"Seoul\"\n",
    "%run trip_advisor_final.py \"2019/10/01\" \"2019/10/05\" \"popularity\" \"Prague\"\n",
    "%run trip_advisor_final.py \"2019/10/01\" \"2019/10/05\" \"popularity\" \"Milan\""
   ]
  },
  {
   "cell_type": "code",
   "execution_count": null,
   "metadata": {},
   "outputs": [],
   "source": [
    "test=\"2020/11/01,2020/11/05,popularity,Milan\""
   ]
  },
  {
   "cell_type": "code",
   "execution_count": null,
   "metadata": {},
   "outputs": [],
   "source": []
  },
  {
   "cell_type": "code",
   "execution_count": null,
   "metadata": {},
   "outputs": [],
   "source": []
  },
  {
   "cell_type": "code",
   "execution_count": null,
   "metadata": {},
   "outputs": [],
   "source": [
    "test.split(',')"
   ]
  },
  {
   "cell_type": "code",
   "execution_count": null,
   "metadata": {},
   "outputs": [],
   "source": []
  },
  {
   "cell_type": "code",
   "execution_count": null,
   "metadata": {},
   "outputs": [],
   "source": [
    "args\n",
    "print(locality)"
   ]
  },
  {
   "cell_type": "code",
   "execution_count": null,
   "metadata": {},
   "outputs": [],
   "source": [
    "if today<datetime.strptime(checkIn,\"%Y/%m/%d\") and datetime.strptime(checkIn,\"%Y/%m/%d\")<datetime.strptime(checkOut,\"%Y/%m/%d\"):\n",
    "        data = parse(locality,checkin_date,checkout_date,sort)\n",
    "        print (\"Writing to output file tripadvisor_data.csv\")\n",
    "        with open('tripadvisor_data.csv','wb')as csvfile:\n",
    "            fieldnames = ['hotel_name','url','locality','reviews','tripadvisor_rating','checkIn','checkOut','price_per_night','booking_provider','no_of_deals','hotel_features']\n",
    "            my_df  = pd.DataFrame(columns = fieldnames)\n",
    "            for row in  data:\n",
    "                my_df.loc[len(my_df)] = [row['hotel_name'],row['url'],row['locality'],row['reviews'],row['tripadvisor_rating'],row['checkIn'],row['checkOut'],row['price_per_night'],row['booking_provider'],row['no_of_deals'],row['hotel_features']]\n",
    "            DB_COLUMN   = 'review_body'\n",
    "            DB_COLUMN1 = 'review_date'\n",
    "            DB_COLUMN2 = 'hotelName'\n",
    "            DB_COLUMN3 = 'hotelUrl'\n",
    "            start_urls = []\n",
    "            for index, row2 in my_df.iterrows():\n",
    "                start_urls.append(row2['url'])\n",
    "            lang = 'en'\n",
    "    \n",
    "            headers = [\n",
    "            DB_COLUMN,\n",
    "            DB_COLUMN1,\n",
    "            DB_COLUMN2,\n",
    "            DB_COLUMN3\n",
    "            ]\n",
    "            reviews_df  = pd.DataFrame(columns = headers)\n",
    "            \n",
    "            for url in start_urls:\n",
    "\n",
    "                # get all reviews for 'url' and 'lang'\n",
    "                items = scrape(url, lang)\n",
    "                filename = 'hotelReviewsIn' + locality + '__' + lang\n",
    "                filename2 = \"HotelListIn\" + locality + '__' + lang\n",
    "                if not items:\n",
    "                    print('No reviews')\n",
    "                else:\n",
    "                    # write in CSV\n",
    "                    for i in items:\n",
    "                        reviews_df.loc[len(reviews_df)] = [i['review_body'],i['review_date'],my_df.loc[my_df['url'] == url]['hotel_name'], url]\n",
    "            ci = checkIn.replace(\"/\", \"\")\n",
    "            co = checkOut.replace(\"/\", \"\")\n",
    "            reviews_df.to_csv(filename + ci +co+'.csv', encoding='utf-8')     \n",
    "            my_df.to_csv(filename2 + ci +co+'.csv', encoding='utf-8')       \n",
    "    #checking whether the entered date is already passed\n",
    "elif today>datetime.strptime(checkIn,\"%Y/%m/%d\") or today>datetime.strptime(checkOut,\"%Y/%m/%d\"):\n",
    "     print (\"Invalid Checkin date: Please enter a valid checkin and checkout dates,entered date is already passed\")\n",
    "\n",
    "elif datetime.strptime(checkIn,\"%Y/%m/%d\")>datetime.strptime(checkOut,\"%Y/%m/%d\"):\n",
    "     print (\"Invalid Checkin date: CheckIn date must be less than checkOut date\")\n"
   ]
  },
  {
   "cell_type": "code",
   "execution_count": 6,
   "metadata": {},
   "outputs": [
    {
     "ename": "NameError",
     "evalue": "name 'locality' is not defined",
     "output_type": "error",
     "traceback": [
      "\u001b[0;31m---------------------------------------------------------------------------\u001b[0m",
      "\u001b[0;31mNameError\u001b[0m                                 Traceback (most recent call last)",
      "\u001b[0;32m<ipython-input-6-d321fb526fd4>\u001b[0m in \u001b[0;36m<module>\u001b[0;34m\u001b[0m\n\u001b[0;32m----> 1\u001b[0;31m \u001b[0mdata\u001b[0m \u001b[0;34m=\u001b[0m \u001b[0mparse\u001b[0m\u001b[0;34m(\u001b[0m\u001b[0mlocality\u001b[0m\u001b[0;34m,\u001b[0m\u001b[0mcheckin_date\u001b[0m\u001b[0;34m,\u001b[0m\u001b[0mcheckout_date\u001b[0m\u001b[0;34m,\u001b[0m\u001b[0msort\u001b[0m\u001b[0;34m)\u001b[0m\u001b[0;34m\u001b[0m\u001b[0;34m\u001b[0m\u001b[0m\n\u001b[0m",
      "\u001b[0;31mNameError\u001b[0m: name 'locality' is not defined"
     ]
    }
   ],
   "source": [
    "data = parse(locality,checkin_date,checkout_date,sort)"
   ]
  },
  {
   "cell_type": "code",
   "execution_count": null,
   "metadata": {},
   "outputs": [],
   "source": [
    "len(data)"
   ]
  },
  {
   "cell_type": "code",
   "execution_count": null,
   "metadata": {},
   "outputs": [],
   "source": [
    "http://www.tripadvisor.com/Hotels-g187849-Milan_Lombardy-Hotels.html\n",
    "https://www.tripadvisor.com/Hotels-g187849-oa30-Milan_Lombardy-Hotels.html\n",
    "https://www.tripadvisor.com/Hotels-g187849-oa60-Milan_Lombardy-Hotels.html"
   ]
  },
  {
   "cell_type": "code",
   "execution_count": null,
   "metadata": {},
   "outputs": [],
   "source": [
    "a=\"http://www.tripadvisor.com/Hotels-g187849-Milan_Lombardy-Hotels.html\""
   ]
  },
  {
   "cell_type": "code",
   "execution_count": null,
   "metadata": {},
   "outputs": [],
   "source": [
    "b=a.split(\"-\")"
   ]
  },
  {
   "cell_type": "code",
   "execution_count": null,
   "metadata": {},
   "outputs": [],
   "source": [
    "print (b)"
   ]
  },
  {
   "cell_type": "code",
   "execution_count": null,
   "metadata": {},
   "outputs": [],
   "source": [
    "print(b[0])"
   ]
  },
  {
   "cell_type": "code",
   "execution_count": null,
   "metadata": {},
   "outputs": [],
   "source": [
    "s=\"-\""
   ]
  },
  {
   "cell_type": "code",
   "execution_count": null,
   "metadata": {},
   "outputs": [],
   "source": [
    "c=s.join([b[0],b[1],\"oa30\",b[2],b[3]])\n",
    "d=s.join([b[0],b[1],\"oa60\",b[2],b[3]])"
   ]
  },
  {
   "cell_type": "code",
   "execution_count": null,
   "metadata": {},
   "outputs": [],
   "source": [
    "urllist = [a,c,d]"
   ]
  },
  {
   "cell_type": "code",
   "execution_count": null,
   "metadata": {},
   "outputs": [],
   "source": [
    "urllist"
   ]
  },
  {
   "cell_type": "code",
   "execution_count": null,
   "metadata": {},
   "outputs": [],
   "source": []
  },
  {
   "cell_type": "code",
   "execution_count": null,
   "metadata": {},
   "outputs": [],
   "source": []
  },
  {
   "cell_type": "code",
   "execution_count": null,
   "metadata": {},
   "outputs": [],
   "source": []
  },
  {
   "cell_type": "code",
   "execution_count": null,
   "metadata": {},
   "outputs": [],
   "source": [
    "\n",
    "\n",
    "\n",
    "            "
   ]
  }
 ],
 "metadata": {
  "kernelspec": {
   "display_name": "Python 3",
   "language": "python",
   "name": "python3"
  },
  "language_info": {
   "codemirror_mode": {
    "name": "ipython",
    "version": 3
   },
   "file_extension": ".py",
   "mimetype": "text/x-python",
   "name": "python",
   "nbconvert_exporter": "python",
   "pygments_lexer": "ipython3",
   "version": "3.7.3"
  }
 },
 "nbformat": 4,
 "nbformat_minor": 2
}
